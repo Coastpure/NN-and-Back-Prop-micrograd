{
 "cells": [
  {
   "cell_type": "code",
   "execution_count": 2,
   "id": "351f0041-3eec-4f85-9356-393c353a1339",
   "metadata": {},
   "outputs": [],
   "source": [
    "import math\n",
    "import numpy as np\n",
    "import matplotlib.pyplot as plt\n",
    "%matplotlib inline"
   ]
  },
  {
   "cell_type": "markdown",
   "id": "93c6bf56-be3b-4184-9153-4ae527ce8b72",
   "metadata": {},
   "source": [
    "<h3> <font color= \"yellow\">Define derivative using f(x+h) - f(x)/h</font></h3>"
   ]
  },
  {
   "cell_type": "markdown",
   "id": "e44ed922-67db-4fbc-bdf0-0dab6cfeb8e6",
   "metadata": {},
   "source": [
    "### 3x²-4x+5"
   ]
  },
  {
   "cell_type": "code",
   "execution_count": 3,
   "id": "1f1e4563-8f9f-4d56-ab71-b276c945d2f6",
   "metadata": {},
   "outputs": [],
   "source": [
    "def f(x):\n",
    "    return 3*x**2 - 4*x + 5"
   ]
  },
  {
   "cell_type": "code",
   "execution_count": 4,
   "id": "d8396314-6c72-494b-b01e-3f532c99d875",
   "metadata": {},
   "outputs": [
    {
     "data": {
      "text/plain": [
       "20.0"
      ]
     },
     "execution_count": 4,
     "metadata": {},
     "output_type": "execute_result"
    }
   ],
   "source": [
    "f(3.0)"
   ]
  },
  {
   "cell_type": "code",
   "execution_count": 5,
   "id": "26565c0a-6880-4d6f-a051-247602f84bb4",
   "metadata": {},
   "outputs": [
    {
     "data": {
      "text/plain": [
       "array([-5.  , -4.75, -4.5 , -4.25, -4.  , -3.75, -3.5 , -3.25, -3.  ,\n",
       "       -2.75, -2.5 , -2.25, -2.  , -1.75, -1.5 , -1.25, -1.  , -0.75,\n",
       "       -0.5 , -0.25,  0.  ,  0.25,  0.5 ,  0.75,  1.  ,  1.25,  1.5 ,\n",
       "        1.75,  2.  ,  2.25,  2.5 ,  2.75,  3.  ,  3.25,  3.5 ,  3.75,\n",
       "        4.  ,  4.25,  4.5 ,  4.75])"
      ]
     },
     "execution_count": 5,
     "metadata": {},
     "output_type": "execute_result"
    }
   ],
   "source": [
    "xs = np.arange(-5, 5, 0.25)\n",
    "xs"
   ]
  },
  {
   "cell_type": "code",
   "execution_count": 6,
   "id": "7a445ca8-c7ec-4097-b64b-33d01f363ea5",
   "metadata": {},
   "outputs": [
    {
     "data": {
      "text/plain": [
       "array([100.    ,  91.6875,  83.75  ,  76.1875,  69.    ,  62.1875,\n",
       "        55.75  ,  49.6875,  44.    ,  38.6875,  33.75  ,  29.1875,\n",
       "        25.    ,  21.1875,  17.75  ,  14.6875,  12.    ,   9.6875,\n",
       "         7.75  ,   6.1875,   5.    ,   4.1875,   3.75  ,   3.6875,\n",
       "         4.    ,   4.6875,   5.75  ,   7.1875,   9.    ,  11.1875,\n",
       "        13.75  ,  16.6875,  20.    ,  23.6875,  27.75  ,  32.1875,\n",
       "        37.    ,  42.1875,  47.75  ,  53.6875])"
      ]
     },
     "execution_count": 6,
     "metadata": {},
     "output_type": "execute_result"
    }
   ],
   "source": [
    "ys = f(xs)\n",
    "ys"
   ]
  },
  {
   "cell_type": "code",
   "execution_count": 7,
   "id": "c8878b45-d4fa-43ac-afee-362fe39fb978",
   "metadata": {},
   "outputs": [
    {
     "data": {
      "text/plain": [
       "[<matplotlib.lines.Line2D at 0x219ce5a4190>]"
      ]
     },
     "execution_count": 7,
     "metadata": {},
     "output_type": "execute_result"
    },
    {
     "data": {
      "image/png": "[encoded data removed]",
      "text/plain": [
       "<Figure size 432x288 with 1 Axes>"
      ]
     },
     "metadata": {
      "needs_background": "light"
     },
     "output_type": "display_data"
    }
   ],
   "source": [
    "plt.plot(xs, ys)"
   ]
  },
  {
   "cell_type": "code",
   "execution_count": 8,
   "id": "a7b5e4e0-fffb-47b1-9def-865c5ac7fc68",
   "metadata": {},
   "outputs": [
    {
     "data": {
      "text/plain": [
       "20.000014000003002"
      ]
     },
     "execution_count": 8,
     "metadata": {},
     "output_type": "execute_result"
    }
   ],
   "source": [
    "h=0.000001\n",
    "x = 3.0\n",
    "f(x+h)"
   ]
  },
  {
   "cell_type": "code",
   "execution_count": 9,
   "id": "4a3ebb83-3589-4592-835b-50740ed7a3fc",
   "metadata": {},
   "outputs": [
    {
     "data": {
      "text/plain": [
       "1.4000003002223593e-05"
      ]
     },
     "execution_count": 9,
     "metadata": {},
     "output_type": "execute_result"
    }
   ],
   "source": [
    "f(x+h) - f(x)"
   ]
  },
  {
   "cell_type": "code",
   "execution_count": 10,
   "id": "a2043a22-a18d-4f35-84d6-f3de01ad8558",
   "metadata": {},
   "outputs": [
    {
     "data": {
      "text/plain": [
       "14.000003002223593"
      ]
     },
     "execution_count": 10,
     "metadata": {},
     "output_type": "execute_result"
    }
   ],
   "source": [
    "(f(x+h) - f(x))/h"
   ]
  },
  {
   "cell_type": "markdown",
   "id": "8dac0bf5-d623-4c4b-975b-635ce930ae4c",
   "metadata": {},
   "source": [
    "<p> <font color= \"yellow\">More Complex</font></p>"
   ]
  },
  {
   "cell_type": "code",
   "execution_count": 11,
   "id": "f8f3c6ff-9a5e-4385-aeb6-32243c8c0077",
   "metadata": {},
   "outputs": [
    {
     "name": "stdout",
     "output_type": "stream",
     "text": [
      "4.0\n"
     ]
    }
   ],
   "source": [
    "# more complex\n",
    "# inputs\n",
    "a = 2.0\n",
    "b = -3.0\n",
    "c = 10.0\n",
    "# single output d\n",
    "d = a*b + c\n",
    "print(d)"
   ]
  },
  {
   "cell_type": "markdown",
   "id": "1cdbda31-5516-48f4-ada4-7370e128bf09",
   "metadata": {},
   "source": [
    "<h3> <font color= \"yellow\">Find derivative of d with respect to a b & c </font></h3>"
   ]
  },
  {
   "cell_type": "markdown",
   "id": "73e82dc7-0857-470b-a071-82368ac74983",
   "metadata": {},
   "source": [
    "<p> <font color= \"yellow\">Effect of a on the output and slope. Notice that differerentiating equation with respect to a, the slope becomes the value of b</font></p>"
   ]
  },
  {
   "cell_type": "code",
   "execution_count": 12,
   "id": "2812fa5c-6dd8-4c11-9a3f-2c9421d0ceb7",
   "metadata": {},
   "outputs": [
    {
     "name": "stdout",
     "output_type": "stream",
     "text": [
      "d1:  4.0\n",
      "d2:  3.999699999999999\n",
      "slope:  -3.000000000010772\n"
     ]
    }
   ],
   "source": [
    "h = 0.0001\n",
    "\n",
    "# inputs\n",
    "a = 2.0\n",
    "b = -3.0\n",
    "c = 10.0\n",
    "\n",
    "d1 = a*b + c\n",
    "a += h\n",
    "d2 = a*b + c\n",
    "\n",
    "print('d1: ', d1)\n",
    "# d2 will decrease because b is a negative number\n",
    "print('d2: ', d2)\n",
    "print('slope: ', (d2-d1)/h)"
   ]
  },
  {
   "cell_type": "markdown",
   "id": "121fc2bf-5fd1-4e40-9db7-35538f7c4e64",
   "metadata": {},
   "source": [
    "<p> <font color= \"yellow\">Effect of b on the slope and ouput. Notice that differerentiating equation with respect to b, the slope becomes the value of a </font></p>"
   ]
  },
  {
   "cell_type": "code",
   "execution_count": 13,
   "id": "54157877-ac8d-4737-9201-a68476d5cd95",
   "metadata": {},
   "outputs": [
    {
     "name": "stdout",
     "output_type": "stream",
     "text": [
      "d1:  4.0\n",
      "d2:  4.0002\n",
      "slope:  2.0000000000042206\n"
     ]
    }
   ],
   "source": [
    "# inputs\n",
    "a = 2.0\n",
    "b = -3.0\n",
    "c = 10.0\n",
    "\n",
    "d1 = a*b + c\n",
    "b += h\n",
    "d2 = a*b + c\n",
    "\n",
    "print('d1: ', d1)\n",
    "# d2 will decrease because b is a negative number\n",
    "print('d2: ', d2)\n",
    "print('slope: ', (d2-d1)/h)"
   ]
  },
  {
   "cell_type": "markdown",
   "id": "492dd7bd-7fca-4ddc-b811-c18a03439b6a",
   "metadata": {},
   "source": [
    "<p> <font color= \"yellow\">Effect of c on the output and slope. This will just increase the ouput by the value of c</font></p>"
   ]
  },
  {
   "cell_type": "code",
   "execution_count": 14,
   "id": "fb5fdc53-bed2-4010-b107-c71d403785ad",
   "metadata": {},
   "outputs": [
    {
     "name": "stdout",
     "output_type": "stream",
     "text": [
      "d1:  4.0\n",
      "d2:  4.0001\n",
      "slope:  0.9999999999976694\n"
     ]
    }
   ],
   "source": [
    "# inputs\n",
    "a = 2.0\n",
    "b = -3.0\n",
    "c = 10.0\n",
    "\n",
    "d1 = a*b + c\n",
    "c += h\n",
    "d2 = a*b + c\n",
    "\n",
    "print('d1: ', d1)\n",
    "# d2 will decrease because b is a negative number\n",
    "print('d2: ', d2)\n",
    "print('slope: ', (d2-d1)/h)"
   ]
  },
  {
   "cell_type": "markdown",
   "id": "020924c2-453c-4000-915e-69b2bdf43556",
   "metadata": {},
   "source": [
    "<h3> <font color= \"yellow\">Value class in micrograd</font></h3>"
   ]
  },
  {
   "cell_type": "code",
   "execution_count": 68,
   "id": "000da12e-5885-4b04-852c-ed0abf3ebfb4",
   "metadata": {},
   "outputs": [
    {
     "name": "stdout",
     "output_type": "stream",
     "text": [
      "a: Value(data=2.0), b: Value(data=-3.0), c: Value(data=10), d: Value(data=4.0), e: Value(data=-6.0), f: Value(data=-2.0), L: Value(data=-8.0)\n"
     ]
    }
   ],
   "source": [
    "class Value:\n",
    "    \n",
    "#  _children is a tuple, then we will convert in to a set, it will help us find the children values\n",
    "# inititialize _op as an empty set, it will help us find the operation that made the childen value\n",
    "# we added a labed for visualizing assistance\n",
    "# a variable that maintains the derivative of L with repect to that value (self.grad=0), initially it will be zero\n",
    "# so at innitialization we are assuming that every value does not impact the output cuz if the gradient is zero that means that changing this variable is not changing the loss Function L\n",
    "    def __init__(self, data, _children=(), _op='', label=''):\n",
    "        self.data = data\n",
    "        self.grad = 0.0\n",
    "#         prev will be the empty set\n",
    "        self._prev = set(_children)\n",
    "        self._op = _op\n",
    "        self.label = label\n",
    "    \n",
    "    def __repr__(self):\n",
    "        return f\"Value(data={self.data})\"\n",
    "    \n",
    "#     have to use def __add__ to add objects  \n",
    "# feed in the children of this ._prev value. (self, other) are the children\n",
    "    def __add__(self, other):\n",
    "        return Value(self.data + other.data, (self, other), '+')\n",
    "    \n",
    "    def __mul__(self, other):\n",
    "        return Value(self.data * other.data, (self, other), '-')\n",
    "       \n",
    "    \n",
    "a = Value(2.0, label='a')\n",
    "b = Value(-3.0, label='b')\n",
    "c = Value(10, label='c')\n",
    "e = a * b; e.label='e'\n",
    "d = a * b + c; d.label='d'\n",
    "f = Value(-2.0, label='f')\n",
    "# L is the output of the graph, L is the value of forward pass (-8)\n",
    "L = f * d; L.label='L'\n",
    "print(f'a: {a}, b: {b}, c: {c}, d: {d}, e: {e}, f: {f}, L: {L}')"
   ]
  },
  {
   "cell_type": "code",
   "execution_count": 32,
   "id": "f1cc625e-647c-44d8-a218-62d6e788cba8",
   "metadata": {},
   "outputs": [
    {
     "data": {
      "text/plain": [
       "{Value(data=-6.0), Value(data=10)}"
      ]
     },
     "execution_count": 32,
     "metadata": {},
     "output_type": "execute_result"
    }
   ],
   "source": [
    "d._prev\n",
    "# {Value(data=-6.0), Value(data=10)} results from a * b and the c value\n",
    "# {Value(data=-6.0), Value(data=10)} are the children values"
   ]
  },
  {
   "cell_type": "markdown",
   "id": "f46dc8aa-a46a-4125-8ab4-7a312c5cd2ea",
   "metadata": {},
   "source": [
    "<h3> <font color= \"yellow\">Visualization</font></h3>"
   ]
  },
  {
   "cell_type": "markdown",
   "id": "0cf98b7a-2985-4481-8ae6-af0a36e039fe",
   "metadata": {},
   "source": [
    "## Visualize it `Tommy`"
   ]
  },
  {
   "cell_type": "code",
   "execution_count": 69,
   "id": "3f0c7a18-567b-42ee-a80c-43d78f4e82dd",
   "metadata": {},
   "outputs": [],
   "source": [
    "from graphviz import Digraph\n",
    "\n",
    "def trace(root):\n",
    "    #builds a set of all nodes and edges in a graph\n",
    "    nodes, edges = set(), set()\n",
    "    def build(v):\n",
    "        if v not in nodes:\n",
    "          nodes.add(v)\n",
    "          for child in v._prev:\n",
    "            edges.add((child, v))\n",
    "            build(child)\n",
    "    build(root)\n",
    "    return nodes, edges\n",
    "\n",
    "def draw_dot(root):\n",
    "    dot = Digraph(format='svg', graph_attr={'rankdir': 'LR'}) # LR = left to right\n",
    "    \n",
    "    nodes, edges = trace(root)\n",
    "    for n in nodes:\n",
    "      uid = str(id(n))\n",
    "      # for any value in the graph, create a rectangular ('record') node for it\n",
    "      dot.node(name = uid, label = \"{ %s | data %.4f | grad %.4f }\" % (n.label, n.data, n.grad), shape='record')\n",
    "      if n._op:\n",
    "        # if this value is a result of some operation, create an op node for it\n",
    "        dot.node(name = uid + n._op, label = n._op)\n",
    "        # and connect this node to it\n",
    "        dot.edge(uid + n._op, uid)\n",
    "        \n",
    "    for n1, n2 in edges:\n",
    "      # connect n1 to the op of n2\n",
    "      dot.edge(str(id(n1)), str(id(n2)) + n2._op)\n",
    "        \n",
    "    return dot\n",
    "    "
   ]
  },
  {
   "cell_type": "markdown",
   "id": "40ca3907-7c2a-4549-a5b1-d0ab529ef6a2",
   "metadata": {},
   "source": [
    "grad is representing the derivative of the output, in this case L, with respect to the value it is attached to"
   ]
  },
  {
   "cell_type": "code",
   "execution_count": 70,
   "id": "ee0dc99c-9a1f-4468-bb9d-f2e864f5f4f4",
   "metadata": {
    "tags": []
   },
   "outputs": [
    {
     "data": {
      "image/svg+xml": [
       "<?xml version=\"1.0\" encoding=\"UTF-8\" standalone=\"no\"?>\n",
       "<!DOCTYPE svg PUBLIC \"-//W3C//DTD SVG 1.1//EN\"\n",
       " \"http://www.w3.org/Graphics/SVG/1.1/DTD/svg11.dtd\">\n",
       "<!-- Generated by graphviz version 2.50.0 (0)\n",
       " -->\n",
       "<!-- Pages: 1 -->\n",
       "<svg width=\"1148pt\" height=\"128pt\"\n",
       " viewBox=\"0.00 0.00 1148.00 128.00\" xmlns=\"http://www.w3.org/2000/svg\" xmlns:xlink=\"http://www.w3.org/1999/xlink\">\n",
       "<g id=\"graph0\" class=\"graph\" transform=\"scale(1 1) rotate(0) translate(4 124)\">\n",
       "<polygon fill=\"white\" stroke=\"transparent\" points=\"-4,4 -4,-124 1144,-124 1144,4 -4,4\"/>\n",
       "<!-- 2309904328208 -->\n",
       "<g id=\"node1\" class=\"node\">\n",
       "<title>2309904328208</title>\n",
       "<polygon fill=\"none\" stroke=\"black\" points=\"316,-83.5 316,-119.5 508,-119.5 508,-83.5 316,-83.5\"/>\n",
       "<text text-anchor=\"middle\" x=\"327.5\" y=\"-97.8\" font-family=\"Times New Roman,serif\" font-size=\"14.00\">c</text>\n",
       "<polyline fill=\"none\" stroke=\"black\" points=\"339,-83.5 339,-119.5 \"/>\n",
       "<text text-anchor=\"middle\" x=\"382.5\" y=\"-97.8\" font-family=\"Times New Roman,serif\" font-size=\"14.00\">data 10.0000</text>\n",
       "<polyline fill=\"none\" stroke=\"black\" points=\"426,-83.5 426,-119.5 \"/>\n",
       "<text text-anchor=\"middle\" x=\"467\" y=\"-97.8\" font-family=\"Times New Roman,serif\" font-size=\"14.00\">grad 0.0000</text>\n",
       "</g>\n",
       "<!-- 2309904104320+ -->\n",
       "<g id=\"node8\" class=\"node\">\n",
       "<title>2309904104320+</title>\n",
       "<ellipse fill=\"none\" stroke=\"black\" cx=\"571\" cy=\"-73.5\" rx=\"27\" ry=\"18\"/>\n",
       "<text text-anchor=\"middle\" x=\"571\" y=\"-69.8\" font-family=\"Times New Roman,serif\" font-size=\"14.00\">+</text>\n",
       "</g>\n",
       "<!-- 2309904328208&#45;&gt;2309904104320+ -->\n",
       "<g id=\"edge9\" class=\"edge\">\n",
       "<title>2309904328208&#45;&gt;2309904104320+</title>\n",
       "<path fill=\"none\" stroke=\"black\" d=\"M508.4,-84.49C517.69,-82.83 526.64,-81.23 534.71,-79.79\"/>\n",
       "<polygon fill=\"black\" stroke=\"black\" points=\"535.53,-83.2 544.76,-78 534.31,-76.31 535.53,-83.2\"/>\n",
       "</g>\n",
       "<!-- 2309904103984 -->\n",
       "<g id=\"node2\" class=\"node\">\n",
       "<title>2309904103984</title>\n",
       "<polygon fill=\"none\" stroke=\"black\" points=\"634,-0.5 634,-36.5 822,-36.5 822,-0.5 634,-0.5\"/>\n",
       "<text text-anchor=\"middle\" x=\"644.5\" y=\"-14.8\" font-family=\"Times New Roman,serif\" font-size=\"14.00\">f</text>\n",
       "<polyline fill=\"none\" stroke=\"black\" points=\"655,-0.5 655,-36.5 \"/>\n",
       "<text text-anchor=\"middle\" x=\"697.5\" y=\"-14.8\" font-family=\"Times New Roman,serif\" font-size=\"14.00\">data &#45;2.0000</text>\n",
       "<polyline fill=\"none\" stroke=\"black\" points=\"740,-0.5 740,-36.5 \"/>\n",
       "<text text-anchor=\"middle\" x=\"781\" y=\"-14.8\" font-family=\"Times New Roman,serif\" font-size=\"14.00\">grad 0.0000</text>\n",
       "</g>\n",
       "<!-- 2309904103408&#45; -->\n",
       "<g id=\"node10\" class=\"node\">\n",
       "<title>2309904103408&#45;</title>\n",
       "<ellipse fill=\"none\" stroke=\"black\" cx=\"885\" cy=\"-45.5\" rx=\"27\" ry=\"18\"/>\n",
       "<text text-anchor=\"middle\" x=\"885\" y=\"-41.8\" font-family=\"Times New Roman,serif\" font-size=\"14.00\">&#45;</text>\n",
       "</g>\n",
       "<!-- 2309904103984&#45;&gt;2309904103408&#45; -->\n",
       "<g id=\"edge8\" class=\"edge\">\n",
       "<title>2309904103984&#45;&gt;2309904103408&#45;</title>\n",
       "<path fill=\"none\" stroke=\"black\" d=\"M822.29,-34.75C831.57,-36.37 840.52,-37.93 848.61,-39.33\"/>\n",
       "<polygon fill=\"black\" stroke=\"black\" points=\"848.22,-42.82 858.68,-41.09 849.42,-35.92 848.22,-42.82\"/>\n",
       "</g>\n",
       "<!-- 2309903752256 -->\n",
       "<g id=\"node3\" class=\"node\">\n",
       "<title>2309903752256</title>\n",
       "<polygon fill=\"none\" stroke=\"black\" points=\"2.5,-56.5 2.5,-92.5 187.5,-92.5 187.5,-56.5 2.5,-56.5\"/>\n",
       "<text text-anchor=\"middle\" x=\"14\" y=\"-70.8\" font-family=\"Times New Roman,serif\" font-size=\"14.00\">a</text>\n",
       "<polyline fill=\"none\" stroke=\"black\" points=\"25.5,-56.5 25.5,-92.5 \"/>\n",
       "<text text-anchor=\"middle\" x=\"65.5\" y=\"-70.8\" font-family=\"Times New Roman,serif\" font-size=\"14.00\">data 2.0000</text>\n",
       "<polyline fill=\"none\" stroke=\"black\" points=\"105.5,-56.5 105.5,-92.5 \"/>\n",
       "<text text-anchor=\"middle\" x=\"146.5\" y=\"-70.8\" font-family=\"Times New Roman,serif\" font-size=\"14.00\">grad 0.0000</text>\n",
       "</g>\n",
       "<!-- 2309904594640&#45; -->\n",
       "<g id=\"node5\" class=\"node\">\n",
       "<title>2309904594640&#45;</title>\n",
       "<ellipse fill=\"none\" stroke=\"black\" cx=\"253\" cy=\"-46.5\" rx=\"27\" ry=\"18\"/>\n",
       "<text text-anchor=\"middle\" x=\"253\" y=\"-42.8\" font-family=\"Times New Roman,serif\" font-size=\"14.00\">&#45;</text>\n",
       "</g>\n",
       "<!-- 2309903752256&#45;&gt;2309904594640&#45; -->\n",
       "<g id=\"edge7\" class=\"edge\">\n",
       "<title>2309903752256&#45;&gt;2309904594640&#45;</title>\n",
       "<path fill=\"none\" stroke=\"black\" d=\"M187.65,-58.05C197.94,-56.2 207.91,-54.41 216.81,-52.82\"/>\n",
       "<polygon fill=\"black\" stroke=\"black\" points=\"217.48,-56.25 226.71,-51.04 216.25,-49.36 217.48,-56.25\"/>\n",
       "</g>\n",
       "<!-- 2309904594640 -->\n",
       "<g id=\"node4\" class=\"node\">\n",
       "<title>2309904594640</title>\n",
       "<polygon fill=\"none\" stroke=\"black\" points=\"318.5,-28.5 318.5,-64.5 505.5,-64.5 505.5,-28.5 318.5,-28.5\"/>\n",
       "<text text-anchor=\"middle\" x=\"328.5\" y=\"-42.8\" font-family=\"Times New Roman,serif\" font-size=\"14.00\"> </text>\n",
       "<polyline fill=\"none\" stroke=\"black\" points=\"338.5,-28.5 338.5,-64.5 \"/>\n",
       "<text text-anchor=\"middle\" x=\"381\" y=\"-42.8\" font-family=\"Times New Roman,serif\" font-size=\"14.00\">data &#45;6.0000</text>\n",
       "<polyline fill=\"none\" stroke=\"black\" points=\"423.5,-28.5 423.5,-64.5 \"/>\n",
       "<text text-anchor=\"middle\" x=\"464.5\" y=\"-42.8\" font-family=\"Times New Roman,serif\" font-size=\"14.00\">grad 0.0000</text>\n",
       "</g>\n",
       "<!-- 2309904594640&#45;&gt;2309904104320+ -->\n",
       "<g id=\"edge5\" class=\"edge\">\n",
       "<title>2309904594640&#45;&gt;2309904104320+</title>\n",
       "<path fill=\"none\" stroke=\"black\" d=\"M505.69,-62.44C516,-64.21 525.97,-65.93 534.85,-67.46\"/>\n",
       "<polygon fill=\"black\" stroke=\"black\" points=\"534.3,-70.91 544.75,-69.16 535.49,-64.01 534.3,-70.91\"/>\n",
       "</g>\n",
       "<!-- 2309904594640&#45;&#45;&gt;2309904594640 -->\n",
       "<g id=\"edge1\" class=\"edge\">\n",
       "<title>2309904594640&#45;&#45;&gt;2309904594640</title>\n",
       "<path fill=\"none\" stroke=\"black\" d=\"M280.28,-46.5C288.4,-46.5 297.88,-46.5 307.96,-46.5\"/>\n",
       "<polygon fill=\"black\" stroke=\"black\" points=\"308.22,-50 318.22,-46.5 308.22,-43 308.22,-50\"/>\n",
       "</g>\n",
       "<!-- 2309904293648 -->\n",
       "<g id=\"node6\" class=\"node\">\n",
       "<title>2309904293648</title>\n",
       "<polygon fill=\"none\" stroke=\"black\" points=\"0,-1.5 0,-37.5 190,-37.5 190,-1.5 0,-1.5\"/>\n",
       "<text text-anchor=\"middle\" x=\"11.5\" y=\"-15.8\" font-family=\"Times New Roman,serif\" font-size=\"14.00\">b</text>\n",
       "<polyline fill=\"none\" stroke=\"black\" points=\"23,-1.5 23,-37.5 \"/>\n",
       "<text text-anchor=\"middle\" x=\"65.5\" y=\"-15.8\" font-family=\"Times New Roman,serif\" font-size=\"14.00\">data &#45;3.0000</text>\n",
       "<polyline fill=\"none\" stroke=\"black\" points=\"108,-1.5 108,-37.5 \"/>\n",
       "<text text-anchor=\"middle\" x=\"149\" y=\"-15.8\" font-family=\"Times New Roman,serif\" font-size=\"14.00\">grad 0.0000</text>\n",
       "</g>\n",
       "<!-- 2309904293648&#45;&gt;2309904594640&#45; -->\n",
       "<g id=\"edge4\" class=\"edge\">\n",
       "<title>2309904293648&#45;&gt;2309904594640&#45;</title>\n",
       "<path fill=\"none\" stroke=\"black\" d=\"M190.34,-35.83C199.62,-37.44 208.58,-38.99 216.66,-40.38\"/>\n",
       "<polygon fill=\"black\" stroke=\"black\" points=\"216.27,-43.87 226.72,-42.12 217.46,-36.97 216.27,-43.87\"/>\n",
       "</g>\n",
       "<!-- 2309904104320 -->\n",
       "<g id=\"node7\" class=\"node\">\n",
       "<title>2309904104320</title>\n",
       "<polygon fill=\"none\" stroke=\"black\" points=\"635.5,-55.5 635.5,-91.5 820.5,-91.5 820.5,-55.5 635.5,-55.5\"/>\n",
       "<text text-anchor=\"middle\" x=\"647\" y=\"-69.8\" font-family=\"Times New Roman,serif\" font-size=\"14.00\">d</text>\n",
       "<polyline fill=\"none\" stroke=\"black\" points=\"658.5,-55.5 658.5,-91.5 \"/>\n",
       "<text text-anchor=\"middle\" x=\"698.5\" y=\"-69.8\" font-family=\"Times New Roman,serif\" font-size=\"14.00\">data 4.0000</text>\n",
       "<polyline fill=\"none\" stroke=\"black\" points=\"738.5,-55.5 738.5,-91.5 \"/>\n",
       "<text text-anchor=\"middle\" x=\"779.5\" y=\"-69.8\" font-family=\"Times New Roman,serif\" font-size=\"14.00\">grad 0.0000</text>\n",
       "</g>\n",
       "<!-- 2309904104320&#45;&gt;2309904103408&#45; -->\n",
       "<g id=\"edge6\" class=\"edge\">\n",
       "<title>2309904104320&#45;&gt;2309904103408&#45;</title>\n",
       "<path fill=\"none\" stroke=\"black\" d=\"M820.51,-56.97C830.48,-55.17 840.13,-53.42 848.77,-51.86\"/>\n",
       "<polygon fill=\"black\" stroke=\"black\" points=\"849.55,-55.28 858.77,-50.06 848.3,-48.39 849.55,-55.28\"/>\n",
       "</g>\n",
       "<!-- 2309904104320+&#45;&gt;2309904104320 -->\n",
       "<g id=\"edge2\" class=\"edge\">\n",
       "<title>2309904104320+&#45;&gt;2309904104320</title>\n",
       "<path fill=\"none\" stroke=\"black\" d=\"M598.29,-73.5C606.26,-73.5 615.54,-73.5 625.39,-73.5\"/>\n",
       "<polygon fill=\"black\" stroke=\"black\" points=\"625.41,-77 635.41,-73.5 625.41,-70 625.41,-77\"/>\n",
       "</g>\n",
       "<!-- 2309904103408 -->\n",
       "<g id=\"node9\" class=\"node\">\n",
       "<title>2309904103408</title>\n",
       "<polygon fill=\"none\" stroke=\"black\" points=\"948,-27.5 948,-63.5 1140,-63.5 1140,-27.5 948,-27.5\"/>\n",
       "<text text-anchor=\"middle\" x=\"960.5\" y=\"-41.8\" font-family=\"Times New Roman,serif\" font-size=\"14.00\">L</text>\n",
       "<polyline fill=\"none\" stroke=\"black\" points=\"973,-27.5 973,-63.5 \"/>\n",
       "<text text-anchor=\"middle\" x=\"1015.5\" y=\"-41.8\" font-family=\"Times New Roman,serif\" font-size=\"14.00\">data &#45;8.0000</text>\n",
       "<polyline fill=\"none\" stroke=\"black\" points=\"1058,-27.5 1058,-63.5 \"/>\n",
       "<text text-anchor=\"middle\" x=\"1099\" y=\"-41.8\" font-family=\"Times New Roman,serif\" font-size=\"14.00\">grad 0.0000</text>\n",
       "</g>\n",
       "<!-- 2309904103408&#45;&#45;&gt;2309904103408 -->\n",
       "<g id=\"edge3\" class=\"edge\">\n",
       "<title>2309904103408&#45;&#45;&gt;2309904103408</title>\n",
       "<path fill=\"none\" stroke=\"black\" d=\"M912.28,-45.5C919.78,-45.5 928.44,-45.5 937.67,-45.5\"/>\n",
       "<polygon fill=\"black\" stroke=\"black\" points=\"937.87,-49 947.87,-45.5 937.87,-42 937.87,-49\"/>\n",
       "</g>\n",
       "</g>\n",
       "</svg>\n"
      ],
      "text/plain": [
       "<graphviz.graphs.Digraph at 0x219d106edf0>"
      ]
     },
     "execution_count": 70,
     "metadata": {},
     "output_type": "execute_result"
    }
   ],
   "source": [
    "draw_dot(L)"
   ]
  },
  {
   "cell_type": "code",
   "execution_count": null,
   "id": "98fe1c9b-ac3b-485b-91d6-dba2edb48cbc",
   "metadata": {},
   "outputs": [],
   "source": []
  }
 ],
 "metadata": {
  "kernelspec": {
   "display_name": "Python 3 (ipykernel)",
   "language": "python",
   "name": "python3"
  },
  "language_info": {
   "codemirror_mode": {
    "name": "ipython",
    "version": 3
   },
   "file_extension": ".py",
   "mimetype": "text/x-python",
   "name": "python",
   "nbconvert_exporter": "python",
   "pygments_lexer": "ipython3",
   "version": "3.9.12"
  }
 },
 "nbformat": 4,
 "nbformat_minor": 5
}
